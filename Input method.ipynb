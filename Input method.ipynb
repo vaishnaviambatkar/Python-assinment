{
 "cells": [
  {
   "cell_type": "code",
   "execution_count": 2,
   "id": "b8e2dd78",
   "metadata": {},
   "outputs": [
    {
     "name": "stdout",
     "output_type": "stream",
     "text": [
      "Enter your name: abc\n",
      "Enter your age: 20\n",
      "Enter your city: ngp\n",
      "Hi! abc, you are 20 years old and you are from ngp\n"
     ]
    }
   ],
   "source": [
    "name = input(\"Enter your name: \")\n",
    "age = input(\"Enter your age: \")\n",
    "city = input(\"Enter your city: \")\n",
    "\n",
    "print(\"Hi! {}, you are {} years old and you are from {}\".format(name,age,city))"
   ]
  },
  {
   "cell_type": "code",
   "execution_count": null,
   "id": "c35454d8",
   "metadata": {},
   "outputs": [],
   "source": [
    "def per_details(name, age, city):\n",
    "    logging.info(\"msg\")\n",
    "    try:\n",
    "        print(\"Hi! {}, you are {} years old and you are from {}\".format(name,age,city))\n",
    "        logging.info(\"msg\")\n",
    "    except Exception as e:\n",
    "        print(e)\n",
    "        logging.info(\"msg\")\n",
    "        "
   ]
  },
  {
   "cell_type": "code",
   "execution_count": null,
   "id": "c8c077cd",
   "metadata": {},
   "outputs": [],
   "source": [
    "def test():\n",
    "    lo\n",
    "    try:\n",
    "        name = input(\"Enter your name: \")\n",
    "        age = input(\"Enter your age: \")\n",
    "        city = input(\"Enter your city: \")\n",
    "        lo\n",
    "\n",
    "        print(\"Hi! {}, you are {} years old and you are from {}\".format(name,age,city))\n",
    "        lo\n",
    "    except Exception as e:\n",
    "        print(e)\n",
    "        lo\n",
    "        "
   ]
  },
  {
   "cell_type": "code",
   "execution_count": 1,
   "id": "38ffcdb6",
   "metadata": {},
   "outputs": [
    {
     "name": "stdout",
     "output_type": "stream",
     "text": [
      "Enter the 1st number:100\n",
      "Enter the2nd number:45\n",
      "Enter the operation (+,-,*,/) :-\n",
      "Sub = 55\n"
     ]
    }
   ],
   "source": [
    "num1 = int(input(\"Enter the 1st number:\"))\n",
    "num2 = int(input(\"Enter the2nd number:\"))\n",
    "math = input(\"Enter the operation (+,-,*,/) :\")\n",
    "\n",
    "if math == \"+\":\n",
    "    result = num1+ num2\n",
    "    print(\"Add =\",result)\n",
    "elif math == \"-\":\n",
    "    result = num1-num2\n",
    "    print(\"Sub =\",result)\n",
    "elif math == \"*\":\n",
    "    result = num1*num2\n",
    "    print(\"mult =\",result)\n",
    "elif math == \"/\":\n",
    "    result = num1/num2\n",
    "    print(\"Divide =\",result)\n",
    "else:\n",
    "    print(\"Invalid operation\")"
   ]
  },
  {
   "cell_type": "code",
   "execution_count": 21,
   "id": "5367f595",
   "metadata": {},
   "outputs": [
    {
     "name": "stdout",
     "output_type": "stream",
     "text": [
      "Enter the number:80\n",
      "Even number\n"
     ]
    }
   ],
   "source": [
    "num = int(input(\"Enter the number:\"))\n",
    "print(\"Even number\") if num%2==0 else print(\"odd number\")"
   ]
  },
  {
   "cell_type": "code",
   "execution_count": 25,
   "id": "604e1a74",
   "metadata": {},
   "outputs": [
    {
     "name": "stdout",
     "output_type": "stream",
     "text": [
      "Enter the number:55\n",
      "Odd number\n"
     ]
    }
   ],
   "source": [
    "num = int(input(\"Enter the number:\"))\n",
    "if num%2 == 0:\n",
    "        print(\"Even number\")\n",
    "else:\n",
    "        print(\"Odd number\")"
   ]
  },
  {
   "cell_type": "code",
   "execution_count": 2,
   "id": "1342f1ec",
   "metadata": {},
   "outputs": [
    {
     "name": "stdout",
     "output_type": "stream",
     "text": [
      "Enter the temperature in celsius:75\n",
      "Temperature in fahrenheit: 167.0\n"
     ]
    }
   ],
   "source": [
    "Celsius = int(input(\"Enter the temperature in celsius:\"))\n",
    "Fahrenheit =(1.8 * Celsius) + 32\n",
    "print(\"Temperature in fahrenheit:\",Fahrenheit)"
   ]
  },
  {
   "cell_type": "code",
   "execution_count": 17,
   "id": "5e653f80",
   "metadata": {},
   "outputs": [
    {
     "name": "stdout",
     "output_type": "stream",
     "text": [
      "Enter the height in cm:165\n",
      "Enter the weight in kg:75\n",
      "You are overweight\n"
     ]
    }
   ],
   "source": [
    "height = float(input(\"Enter the height in cm:\"))\n",
    "weight = float(input(\"Enter the weight in kg:\"))\n",
    "BMI = weight / (height/100)**2\n",
    "\n",
    "if BMI<=18.5:\n",
    "    print(\"You are underweight\")\n",
    "elif BMI<=24.9:\n",
    "    print(\"You are healthy\")\n",
    "elif BMI<=29.9:\n",
    "    print(\"You are overweight\")\n",
    "else:\n",
    "    print(\"You are obese\")"
   ]
  },
  {
   "cell_type": "code",
   "execution_count": 23,
   "id": "e7702fd1",
   "metadata": {},
   "outputs": [],
   "source": [
    "import math"
   ]
  },
  {
   "cell_type": "code",
   "execution_count": 30,
   "id": "7f8c2883",
   "metadata": {},
   "outputs": [
    {
     "name": "stdout",
     "output_type": "stream",
     "text": [
      "Enter the number:5\n",
      "120\n"
     ]
    }
   ],
   "source": [
    "num = int(input(\"Enter the number:\"))\n",
    "print(math.factorial(num))"
   ]
  },
  {
   "cell_type": "code",
   "execution_count": 46,
   "id": "839b691f",
   "metadata": {},
   "outputs": [
    {
     "name": "stdout",
     "output_type": "stream",
     "text": [
      "Enter the name:my name is vaishnavi\n"
     ]
    },
    {
     "data": {
      "text/plain": [
       "'ivanhsiav si eman ym'"
      ]
     },
     "execution_count": 46,
     "metadata": {},
     "output_type": "execute_result"
    }
   ],
   "source": [
    "var = input(\"Enter the name:\")\n",
    "var[::-1]"
   ]
  },
  {
   "cell_type": "code",
   "execution_count": 55,
   "id": "ca38c540",
   "metadata": {},
   "outputs": [
    {
     "name": "stdout",
     "output_type": "stream",
     "text": [
      "Enter the number:15\n",
      "Fibonacci sequence: 0 1 1 2 3 5 8 13 21 34 55 89 144 233 377 610 987 \n"
     ]
    }
   ],
   "source": [
    "num = int(input(\"Enter the number:\"))\n",
    "n1 = 0\n",
    "n2 = 1\n",
    "print(\"Fibonacci sequence:\",n1,n2,end =\" \")\n",
    "\n",
    "for i in range(0,num):\n",
    "    n = n1+n2\n",
    "    n1 = n2\n",
    "    n2 = n\n",
    "    print(n,end =\" \")\n",
    "print()"
   ]
  },
  {
   "cell_type": "code",
   "execution_count": null,
   "id": "b064105f",
   "metadata": {},
   "outputs": [],
   "source": []
  },
  {
   "cell_type": "code",
   "execution_count": null,
   "id": "38af9e32",
   "metadata": {},
   "outputs": [],
   "source": []
  }
 ],
 "metadata": {
  "kernelspec": {
   "display_name": "Python 3 (ipykernel)",
   "language": "python",
   "name": "python3"
  },
  "language_info": {
   "codemirror_mode": {
    "name": "ipython",
    "version": 3
   },
   "file_extension": ".py",
   "mimetype": "text/x-python",
   "name": "python",
   "nbconvert_exporter": "python",
   "pygments_lexer": "ipython3",
   "version": "3.11.5"
  }
 },
 "nbformat": 4,
 "nbformat_minor": 5
}
